{
 "cells": [
  {
   "cell_type": "code",
   "execution_count": 1,
   "id": "445f6903-d432-447f-80e3-b50e085a389c",
   "metadata": {},
   "outputs": [],
   "source": [
    "#Q1\n",
    "#Ans:-\n",
    "#API stands for application programming interface, which is a set of definitions and protocols for building and integrating application software..APIs are mechanisms that enable two software components to communicate with each other using a set of definitions and protocols.\n",
    "#The Google Maps API , Google Pay API and Twitter API are  API examples."
   ]
  },
  {
   "cell_type": "code",
   "execution_count": 2,
   "id": "e1d4f627-7d9b-425a-b703-31423f0d166a",
   "metadata": {},
   "outputs": [],
   "source": [
    "#Q2\n",
    "#Ans:-\n",
    "# Advantages:\n",
    "# 1.You have the code written for you. Just plug and play. Your development time is reduced significantly.\n",
    "# 2.If you are using standard APIs, then a lot of other people are using that as well. So your codebase is somewhat portable which at times is beneficial.\n",
    "# 3.Standard APIs usually have a lot of free community support in case you need troubleshooting. If you tend to write all of your own code then you are pretty much on your own as far as debugging is concerned.\n",
    "\n",
    "# Disadvantages:\n",
    "# 1.Well since you are using someone else's code, you have to understand the structure and assumptions of the developer.\n",
    "# 2.In case you need to tweak existing code to add some extra functionality you might need to wade through layers and layers of files just to identify the line where you need to make any changes. It can get pretty annoying at times."
   ]
  },
  {
   "cell_type": "code",
   "execution_count": 3,
   "id": "b8d1fef8-6e3f-4c6c-a145-92b0338c7dbb",
   "metadata": {},
   "outputs": [],
   "source": [
    "#Q3\n",
    "#Ans:-\n",
    "#Web API is an extensible framework for building HTTP based services that can be accessed in different applications on different platforms .\n",
    "#API is made up of TCPIP or HTTP protocol where web API is made up of HTTP protocol.\n",
    "#WEb API is basically a subset of API where the communication betweeen two softwares are done through a Web.\n",
    "#API can or cannot operate the same communication through web.\n",
    "#API is a broader aspect."
   ]
  },
  {
   "cell_type": "code",
   "execution_count": 4,
   "id": "8742baf8-2f8e-4891-9fd2-bc7d3607667e",
   "metadata": {},
   "outputs": [],
   "source": [
    "#Q4\n",
    "#Ans:-\n",
    "#REST is a set of guidelines that offers flexible implementation, whereas SOAP is a protocol with specific requirements like XML messaging.\n",
    "\n",
    "#REST APIs are lightweight, making them ideal for newer contexts like the Internet of Things (IoT), mobile application development, and serverless computing. SOAP web services offer built-in security and transaction compliance that align with many enterprise needs, but that also makes them heavier. Additionally, many public APIs, like the Google Maps API, follow the REST guidelines.\n",
    "#The shortcomings of SOAP APIs are as follows:-\n",
    "# 1.Highly complex\n",
    "# 2.No variety of data formats\n",
    "# 3.API calls are not cached\n",
    "# 4.Uses more bandwidth"
   ]
  },
  {
   "cell_type": "code",
   "execution_count": 5,
   "id": "23197943-4809-4b78-badd-e94b9e4a745a",
   "metadata": {},
   "outputs": [],
   "source": [
    "#Q5\n",
    "#Ans:-\n",
    "# The main differences between SOAP and REST APIs are :\n",
    "# 1.SOAP stands for Simple Object Access Protocol whereas REST stands for Representational State Transfer.\n",
    "# 2.SOAP is a protocol whereas REST is an architectural pattern.\n",
    "# 3.SOAP uses service interfaces to expose its functionality to client applications while REST uses Uniform Service locators to access to the components on the hardware device.\n",
    "# 4.SOAP needs more bandwidth for its usage whereas REST doesn’t need much bandwidth.\n",
    "# 5.Comparing SOAP vs REST API, SOAP only works with XML formats whereas REST work with plain text, XML, HTML and JSON.\n",
    "# 6.SOAP cannot make use of REST whereas REST can make use of SOAP."
   ]
  },
  {
   "cell_type": "code",
   "execution_count": null,
   "id": "20555c80-637d-45fc-95b5-b14d18a76aef",
   "metadata": {},
   "outputs": [],
   "source": []
  }
 ],
 "metadata": {
  "kernelspec": {
   "display_name": "Python 3 (ipykernel)",
   "language": "python",
   "name": "python3"
  },
  "language_info": {
   "codemirror_mode": {
    "name": "ipython",
    "version": 3
   },
   "file_extension": ".py",
   "mimetype": "text/x-python",
   "name": "python",
   "nbconvert_exporter": "python",
   "pygments_lexer": "ipython3",
   "version": "3.10.8"
  }
 },
 "nbformat": 4,
 "nbformat_minor": 5
}
